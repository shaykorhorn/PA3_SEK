{
 "cells": [
  {
   "cell_type": "markdown",
   "id": "4db225b0",
   "metadata": {},
   "source": [
    "* Shay Korhorn\n",
    "* Assignment 3\n",
    "* Version 1\n",
    "* Fall 2023"
   ]
  },
  {
   "cell_type": "markdown",
   "id": "7f1e73c3",
   "metadata": {},
   "source": [
    "# Task 1: List Operations"
   ]
  },
  {
   "cell_type": "code",
   "execution_count": 1,
   "id": "d2be1b06",
   "metadata": {},
   "outputs": [],
   "source": [
    "numbers=[10,20,30,40,50]"
   ]
  },
  {
   "cell_type": "code",
   "execution_count": 2,
   "id": "ba7d8058",
   "metadata": {},
   "outputs": [],
   "source": [
    "numbers.append(60)"
   ]
  },
  {
   "cell_type": "code",
   "execution_count": 3,
   "id": "caa03425",
   "metadata": {
    "scrolled": true
   },
   "outputs": [
    {
     "name": "stdout",
     "output_type": "stream",
     "text": [
      "[10, 20, 30, 40, 50, 60]\n"
     ]
    }
   ],
   "source": [
    "print(numbers)"
   ]
  },
  {
   "cell_type": "code",
   "execution_count": 4,
   "id": "01f1da72",
   "metadata": {},
   "outputs": [],
   "source": [
    "numbers.insert(0, 5)"
   ]
  },
  {
   "cell_type": "code",
   "execution_count": 5,
   "id": "e41b859f",
   "metadata": {},
   "outputs": [
    {
     "name": "stdout",
     "output_type": "stream",
     "text": [
      "[5, 10, 20, 30, 40, 50, 60]\n"
     ]
    }
   ],
   "source": [
    "print(numbers)"
   ]
  },
  {
   "cell_type": "code",
   "execution_count": 6,
   "id": "de3d8701",
   "metadata": {},
   "outputs": [],
   "source": [
    "del numbers[1]"
   ]
  },
  {
   "cell_type": "code",
   "execution_count": 7,
   "id": "f169f342",
   "metadata": {},
   "outputs": [
    {
     "name": "stdout",
     "output_type": "stream",
     "text": [
      "[5, 20, 30, 40, 50, 60]\n"
     ]
    }
   ],
   "source": [
    "print(numbers)"
   ]
  },
  {
   "cell_type": "markdown",
   "id": "76112641",
   "metadata": {},
   "source": [
    "# Task 2: Tuple Basics"
   ]
  },
  {
   "cell_type": "code",
   "execution_count": 8,
   "id": "7022e45c",
   "metadata": {},
   "outputs": [],
   "source": [
    "days=(\"Monday\", \"Tuesday\", \"Wednesday\", \"Thursday\", \"Friday\", \"Saturday\",\"Sunday\")"
   ]
  },
  {
   "cell_type": "code",
   "execution_count": 9,
   "id": "bbf542f2",
   "metadata": {},
   "outputs": [
    {
     "data": {
      "text/plain": [
       "tuple"
      ]
     },
     "execution_count": 9,
     "metadata": {},
     "output_type": "execute_result"
    }
   ],
   "source": [
    "type(days)"
   ]
  },
  {
   "cell_type": "code",
   "execution_count": 10,
   "id": "2e6e2912",
   "metadata": {},
   "outputs": [
    {
     "name": "stdout",
     "output_type": "stream",
     "text": [
      "Wednesday\n"
     ]
    }
   ],
   "source": [
    "print(days[2])"
   ]
  },
  {
   "cell_type": "code",
   "execution_count": 29,
   "id": "7f40475c",
   "metadata": {},
   "outputs": [
    {
     "ename": "TypeError",
     "evalue": "'tuple' object does not support item assignment",
     "output_type": "error",
     "traceback": [
      "\u001b[0;31m---------------------------------------------------------------------------\u001b[0m",
      "\u001b[0;31mTypeError\u001b[0m                                 Traceback (most recent call last)",
      "Cell \u001b[0;32mIn[29], line 3\u001b[0m\n\u001b[1;32m      1\u001b[0m \u001b[38;5;66;03m# The error that occurs is \"'tuple' object does not support item assignment\"\u001b[39;00m\n\u001b[1;32m      2\u001b[0m \u001b[38;5;66;03m# This is because tuples are immutable\u001b[39;00m\n\u001b[0;32m----> 3\u001b[0m days[\u001b[38;5;241m1\u001b[39m]\u001b[38;5;241m=\u001b[39m \u001b[38;5;124m\"\u001b[39m\u001b[38;5;124mFunday\u001b[39m\u001b[38;5;124m\"\u001b[39m\n",
      "\u001b[0;31mTypeError\u001b[0m: 'tuple' object does not support item assignment"
     ]
    }
   ],
   "source": [
    "# The error that occurs is \"'tuple' object does not support item assignment\"\n",
    "# This is because tuples are immutable\n",
    "days[1]= \"Funday\""
   ]
  },
  {
   "cell_type": "markdown",
   "id": "9e62be77",
   "metadata": {},
   "source": [
    "# Task 3: Reversing Sublist"
   ]
  },
  {
   "cell_type": "code",
   "execution_count": 30,
   "id": "475382db",
   "metadata": {},
   "outputs": [],
   "source": [
    "alphabet=[(\"a\",\"b\",\"c\",\"d\",\"e\"),(\"f\",\"g\",\"h\",\"i\",\"j\"),(\"k\",\"l\",\"m\",\"n\",\"o\",\"p\"),(\"q\",\"r\",\"s\",\"t\",\"u\"),(\"v\",\"w\",\"x\",\"y\",\"z\")]"
   ]
  },
  {
   "cell_type": "code",
   "execution_count": 31,
   "id": "c62ca716",
   "metadata": {},
   "outputs": [
    {
     "name": "stdout",
     "output_type": "stream",
     "text": [
      "('k', 'l', 'm', 'n', 'o', 'p')\n"
     ]
    }
   ],
   "source": [
    "reversed(alphabet) # Do not know why it is not reversing ;(\n",
    "print(alphabet[2])"
   ]
  },
  {
   "cell_type": "markdown",
   "id": "54ebebb8",
   "metadata": {},
   "source": [
    "# Task 4: Tuple Packing and Unpacking"
   ]
  },
  {
   "cell_type": "code",
   "execution_count": 32,
   "id": "99f4241c",
   "metadata": {},
   "outputs": [],
   "source": [
    "student=(\"Shay\",\"Korhorn\",\"19\",\"Math\")"
   ]
  },
  {
   "cell_type": "code",
   "execution_count": 33,
   "id": "600c9a73",
   "metadata": {},
   "outputs": [
    {
     "name": "stdout",
     "output_type": "stream",
     "text": [
      "My first name is:  Shay\n"
     ]
    }
   ],
   "source": [
    "print(f\"My first name is: \",student[0])"
   ]
  },
  {
   "cell_type": "code",
   "execution_count": 34,
   "id": "1006b2d9",
   "metadata": {},
   "outputs": [
    {
     "name": "stdout",
     "output_type": "stream",
     "text": [
      "My last name is:  Korhorn\n"
     ]
    }
   ],
   "source": [
    "print(f\"My last name is: \",student[1])"
   ]
  },
  {
   "cell_type": "code",
   "execution_count": 35,
   "id": "2aafe452",
   "metadata": {},
   "outputs": [
    {
     "name": "stdout",
     "output_type": "stream",
     "text": [
      "My age is:  19\n"
     ]
    }
   ],
   "source": [
    "print(f\"My age is: \",student[2])"
   ]
  },
  {
   "cell_type": "code",
   "execution_count": 36,
   "id": "23a9a07d",
   "metadata": {},
   "outputs": [
    {
     "name": "stdout",
     "output_type": "stream",
     "text": [
      "My favorite subject is:  Math\n"
     ]
    }
   ],
   "source": [
    "print(f\"My favorite subject is: \",student[3])"
   ]
  },
  {
   "cell_type": "markdown",
   "id": "9d234222",
   "metadata": {},
   "source": [
    "# Task 5: Shopping List"
   ]
  },
  {
   "cell_type": "code",
   "execution_count": 37,
   "id": "e4a6bff7",
   "metadata": {},
   "outputs": [],
   "source": [
    "shopping_list= [\"Apples\",\"Broccoli\",\"Chips\",\"Steak\",\"Chicken\"]"
   ]
  },
  {
   "cell_type": "code",
   "execution_count": 38,
   "id": "a0d106f4",
   "metadata": {},
   "outputs": [
    {
     "name": "stdout",
     "output_type": "stream",
     "text": [
      "5\n"
     ]
    }
   ],
   "source": [
    "print(len(shopping_list))"
   ]
  },
  {
   "cell_type": "code",
   "execution_count": 39,
   "id": "9a80fc6c",
   "metadata": {},
   "outputs": [],
   "source": [
    "shopping_list[2]= \"Yogurt\""
   ]
  },
  {
   "cell_type": "code",
   "execution_count": 40,
   "id": "e1acc723",
   "metadata": {},
   "outputs": [
    {
     "name": "stdout",
     "output_type": "stream",
     "text": [
      "['Apples', 'Broccoli', 'Yogurt', 'Steak', 'Chicken']\n"
     ]
    }
   ],
   "source": [
    "print(shopping_list)"
   ]
  },
  {
   "cell_type": "code",
   "execution_count": 41,
   "id": "896458f0",
   "metadata": {},
   "outputs": [
    {
     "data": {
      "text/plain": [
       "['Apples', 'Broccoli', 'Chicken', 'Steak', 'Yogurt']"
      ]
     },
     "execution_count": 41,
     "metadata": {},
     "output_type": "execute_result"
    }
   ],
   "source": [
    "sorted(shopping_list)"
   ]
  },
  {
   "cell_type": "code",
   "execution_count": 42,
   "id": "e0f5b896",
   "metadata": {},
   "outputs": [
    {
     "name": "stdout",
     "output_type": "stream",
     "text": [
      "['Apples', 'Broccoli', 'Yogurt', 'Steak', 'Chicken']\n"
     ]
    }
   ],
   "source": [
    "print(shopping_list)"
   ]
  }
 ],
 "metadata": {
  "kernelspec": {
   "display_name": "Python 3 (ipykernel)",
   "language": "python",
   "name": "python3"
  },
  "language_info": {
   "codemirror_mode": {
    "name": "ipython",
    "version": 3
   },
   "file_extension": ".py",
   "mimetype": "text/x-python",
   "name": "python",
   "nbconvert_exporter": "python",
   "pygments_lexer": "ipython3",
   "version": "3.11.4"
  }
 },
 "nbformat": 4,
 "nbformat_minor": 5
}
